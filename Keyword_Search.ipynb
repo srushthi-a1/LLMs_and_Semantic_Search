{
 "cells": [
  {
   "cell_type": "markdown",
   "id": "45b98f11",
   "metadata": {},
   "source": [
    "# Keyword Search"
   ]
  },
  {
   "cell_type": "markdown",
   "id": "06335224",
   "metadata": {},
   "source": [
    "## Setup\n",
    "\n",
    "Load needed API keys and relevant Python libaries."
   ]
  },
  {
   "cell_type": "code",
   "execution_count": 14,
   "id": "c54004a6",
   "metadata": {
    "height": 46
   },
   "outputs": [],
   "source": [
    "# !pip install cohere\n",
    "# !pip install weaviate-client"
   ]
  },
  {
   "cell_type": "code",
   "execution_count": 2,
   "id": "45ff94ae-8603-431a-acee-0ec3a39a1056",
   "metadata": {
    "height": 80
   },
   "outputs": [],
   "source": [
    "import os\n",
    "from dotenv import load_dotenv, find_dotenv\n",
    "_ = load_dotenv(find_dotenv()) # read local .env file"
   ]
  },
  {
   "cell_type": "markdown",
   "id": "c23677b6",
   "metadata": {},
   "source": [
    "Let's start by imporing Weaviate to access the Wikipedia database."
   ]
  },
  {
   "cell_type": "code",
   "execution_count": 3,
   "id": "f44886bf-f8cf-4f90-83ae-2299ec448e16",
   "metadata": {
    "height": 114
   },
   "outputs": [],
   "source": [
    "import weaviate\n",
    "auth_config = weaviate.auth.AuthApiKey(\n",
    "    api_key=os.environ['WEAVIATE_API_KEY'])\n",
    "\n"
   ]
  },
  {
   "cell_type": "code",
   "execution_count": 4,
   "id": "750583ec-7263-4927-b484-9818fba3318b",
   "metadata": {
    "height": 148
   },
   "outputs": [],
   "source": [
    "client = weaviate.Client(\n",
    "    url=os.environ['WEAVIATE_API_URL'],\n",
    "    auth_client_secret=auth_config,\n",
    "    additional_headers={\n",
    "        \"X-Cohere-Api-Key\": os.environ['COHERE_API_KEY'],\n",
    "    }\n",
    ")"
   ]
  },
  {
   "cell_type": "code",
   "execution_count": 5,
   "id": "2efcdfdc-1566-4046-95d8-f9f2f3a36088",
   "metadata": {
    "height": 29
   },
   "outputs": [
    {
     "data": {
      "text/plain": [
       "True"
      ]
     },
     "execution_count": 5,
     "metadata": {},
     "output_type": "execute_result"
    }
   ],
   "source": [
    "client.is_ready() "
   ]
  },
  {
   "cell_type": "markdown",
   "id": "78acc1ed",
   "metadata": {},
   "source": [
    "# Keyword Search"
   ]
  },
  {
   "cell_type": "code",
   "execution_count": 8,
   "id": "017cd922-c729-4aa7-8696-d11d28eb7288",
   "metadata": {
    "height": 420
   },
   "outputs": [],
   "source": [
    "def keyword_search(query,\n",
    "                   results_lang='en',\n",
    "                   properties = [\"title\",\"url\",\"text\"],\n",
    "                   num_results=3):\n",
    "\n",
    "    where_filter = {\n",
    "    \"path\": [\"lang\"],\n",
    "    \"operator\": \"Equal\",\n",
    "    \"valueString\": results_lang\n",
    "    }\n",
    "    \n",
    "    response = (\n",
    "        client.query.get(\"Articles\", properties)\n",
    "        .with_bm25(\n",
    "            query=query\n",
    "        )\n",
    "        .with_where(where_filter)\n",
    "        .with_limit(num_results)\n",
    "        .do()\n",
    "        )\n",
    "\n",
    "    result = response['data']['Get']['Articles']\n",
    "    return result"
   ]
  },
  {
   "cell_type": "code",
   "execution_count": 9,
   "id": "5a9e70d9-326f-443c-915a-5a97c0dfe54b",
   "metadata": {
    "height": 80,
    "jupyter": {
     "outputs_hidden": true
    }
   },
   "outputs": [
    {
     "name": "stdout",
     "output_type": "stream",
     "text": [
      "[{'text': 'The most active Gamergate supporters or \"Gamergaters\" said that Gamergate was a movement for ethics in games journalism, for protecting the \"gamer\" identity, and for opposing \"political correctness\" in video games and that any harassment of women was done by others not affiliated with Gamergate. They argued that the close relationships between journalists and developers demonstrated a conspiracy among reviewers to focus on progressive social issues. Some supporters pointed to what they considered disproportionate praise for games such as \"Depression Quest\" and \"Gone Home\", which feature unconventional gameplay and stories with social implications, while they viewed traditional AAA games as downplayed. False claims of the \"ethics in game journalism\" had started as early as 2012, when Geoff Keighley was accused of such unethical behavior when he was presenting information about \"Halo 4\" among advertisements for Mountain Dew and Doritos, an event called \"Doritosgate\" in the gamer culture.', 'title': 'Gamergate (harassment campaign)', 'url': 'https://en.wikipedia.org/wiki?curid=43758363'}, {'text': '\"Rolling Stone\" stated Jackson\\'s Super Bowl performance \"is far and away the most famous moment in the history of the Super Bowl halftime show\". \"PopCrush\" called the performance \"one of the most shocking moments in pop culture\" as well as a \"totally unexpected and unforgettable moment\". \"Gawker\" ranked the performance among the most recent of the \"10 Shows that Advanced Sex on Television\", commenting the set \"had all the elements of a huge story\" and \"within seconds the world searched furtively for pictures\", concluding \"it remains so ubiquitous, it\\'s impossible to look at a starburst nipple shield without thinking \"Janet Jackson\"\". \"E! Online\" ranked it among the top ten most shocking celebrity moments of the prior two decades. A study of television\\'s most impactful moments of the last 50 years conducted by Sony Electronics and the Nielsen Television Research Company ranked Jackson\\'s Super Bowl performance at #26. The incident was the only Super Bowl event on the list and the highest music and entertainment event aside from the death of Whitney Houston. TV Guide Network ranked it at #2 in a 2010 special listing the \"25 Biggest TV Blunders\". \"Complex\" stated \"It\\'s the Citizen Kane of televised nip-slips—so unexpected, and on such a large stage, that nothing else will ever come close. If Beyoncé were to whip out both breasts and put on a puppet show with them when she performs this year in New Orleans, it would rate as just the second most shocking Super Boob display. Janet\\'s strangely ornamented right nipple is a living legend, and so is Justin Timberlake\\'s terrified reaction.\" Music channel Fuse listed it as the most controversial Super Bowl halftime show, saying the \"revealing performance remains (and will forever remain) the craziest thing to ever happen at a halftime show. Almost immediately after the incident, the FCC received a flood of complaints from parents who just wanted their children to enjoy a nice, wholesome three hours of grown men inflicting damaging and long-lasting pain on each other for sport. Halftime shows would never be the same.\" Patrick Gipson of \"Bleacher Report\" ranked it as #1 in its list of the most \"Jaw Dropping Moments of the Last Decade\", stating Janet \"changed the landscape of live television forever\". Gipson explained \"It prompted a million mothers to cover their eyes, fathers and sons to jump out of their seats in shock and numerous sanctions by the Federal Communications Commission, including a US$550,000 fine against CBS. Talk about a halftime show that will be hard to top.\" The incident was also declared \"the most memorable Super Bowl halftime show in history\", as well as \"the most controversial\", adding \"you can\\'t talk about this halftime show, or any subsequent halftime show from here to eternity, without mentioning the wardrobe malfunction\".', 'title': 'Super Bowl XXXVIII halftime show controversy', 'url': 'https://en.wikipedia.org/wiki?curid=498971'}, {'text': 'West Germany (established in May 1949) was not eligible for the 1950 World Cup (the first after the war), and so all preparations were made with a view toward the 1954 matches in Bern, Switzerland. By that time Adidas\\'s football boots were considerably lighter than the ones made before the war, based on English designs. At the World Cup Adi had a secret weapon, which he revealed when West Germany made the finals against the overwhelmingly favored Hungarian team, which was undefeated since May 1950 and had defeated West Germany 8–3 in group play. Despite this defeat, West Germany made the knock-out rounds by twice defeating Turkey handily. The team defeated Yugoslavia and Austria to reach the final (a remarkable achievement), where the hope of many German fans was simply that the team \"avoid another humiliating defeat\" at the hands of the Hungarians. The day of the final began with light rain, which brightened the prospects of the West German team who called it \"\"Fritz Walter-Wetter\"\" because the team\\'s best player excelled in muddy conditions. Dassler informed Herberger before the match of his latest innovation—\"screw in studs.\" Unlike the traditional boot which had fixed leather spike studs, Dassler\\'s shoe allowed spikes of various lengths to be affixed depending on the state of the pitch. As the playing field at Wankdorf Stadium drastically deteriorated, Herberger famously announced, \"Adi, screw them on.\" The longer spikes improved the footing of West German players compared to the Hungarians whose mud-caked boots were also much heavier. The West Germans staged a come from behind upset, winning 3-2, in what became known as the \"Miracle in Bern.\" Herberger publicly praised Dassler as a key contributor to the win, and Adidas\\'s fame rose both in West Germany, where the win was considered a key post-war event in restoring German self-esteem and abroad, where in the first televised World Cup final viewers were introduced to \"the ultimate breakthrough.\"', 'title': 'Adolf Dassler', 'url': 'https://en.wikipedia.org/wiki?curid=2373164'}]\n"
     ]
    }
   ],
   "source": [
    "query = \"What is the most viewed televised event?\"\n",
    "keyword_search_results = keyword_search(query)\n",
    "print(keyword_search_results)"
   ]
  },
  {
   "cell_type": "markdown",
   "id": "b15686a7",
   "metadata": {},
   "source": [
    "### Try modifying the search options\n",
    "- Other languages to try: `en, de, fr, es, it, ja, ar, zh, ko, hi`"
   ]
  },
  {
   "cell_type": "code",
   "execution_count": 10,
   "id": "260397fc-2799-426d-8b82-afbe9c3a126e",
   "metadata": {
    "height": 63
   },
   "outputs": [],
   "source": [
    "properties = [\"text\", \"title\", \"url\", \n",
    "             \"views\", \"lang\"]"
   ]
  },
  {
   "cell_type": "code",
   "execution_count": 11,
   "id": "2a2daa0b-dd23-4ffd-8b3d-d08b73e052b9",
   "metadata": {
    "height": 165
   },
   "outputs": [],
   "source": [
    "def print_result(result):\n",
    "    \"\"\" Print results with colorful formatting \"\"\"\n",
    "    for i,item in enumerate(result):\n",
    "        print(f'item {i}')\n",
    "        for key in item.keys():\n",
    "            print(f\"{key}:{item.get(key)}\")\n",
    "            print()\n",
    "        print()"
   ]
  },
  {
   "cell_type": "code",
   "execution_count": 12,
   "id": "6bdb1635-adad-411b-8059-d6b8b251fb2c",
   "metadata": {
    "height": 29,
    "jupyter": {
     "outputs_hidden": true
    },
    "scrolled": true
   },
   "outputs": [
    {
     "name": "stdout",
     "output_type": "stream",
     "text": [
      "item 0\n",
      "text:The most active Gamergate supporters or \"Gamergaters\" said that Gamergate was a movement for ethics in games journalism, for protecting the \"gamer\" identity, and for opposing \"political correctness\" in video games and that any harassment of women was done by others not affiliated with Gamergate. They argued that the close relationships between journalists and developers demonstrated a conspiracy among reviewers to focus on progressive social issues. Some supporters pointed to what they considered disproportionate praise for games such as \"Depression Quest\" and \"Gone Home\", which feature unconventional gameplay and stories with social implications, while they viewed traditional AAA games as downplayed. False claims of the \"ethics in game journalism\" had started as early as 2012, when Geoff Keighley was accused of such unethical behavior when he was presenting information about \"Halo 4\" among advertisements for Mountain Dew and Doritos, an event called \"Doritosgate\" in the gamer culture.\n",
      "\n",
      "title:Gamergate (harassment campaign)\n",
      "\n",
      "url:https://en.wikipedia.org/wiki?curid=43758363\n",
      "\n",
      "\n",
      "item 1\n",
      "text:\"Rolling Stone\" stated Jackson's Super Bowl performance \"is far and away the most famous moment in the history of the Super Bowl halftime show\". \"PopCrush\" called the performance \"one of the most shocking moments in pop culture\" as well as a \"totally unexpected and unforgettable moment\". \"Gawker\" ranked the performance among the most recent of the \"10 Shows that Advanced Sex on Television\", commenting the set \"had all the elements of a huge story\" and \"within seconds the world searched furtively for pictures\", concluding \"it remains so ubiquitous, it's impossible to look at a starburst nipple shield without thinking \"Janet Jackson\"\". \"E! Online\" ranked it among the top ten most shocking celebrity moments of the prior two decades. A study of television's most impactful moments of the last 50 years conducted by Sony Electronics and the Nielsen Television Research Company ranked Jackson's Super Bowl performance at #26. The incident was the only Super Bowl event on the list and the highest music and entertainment event aside from the death of Whitney Houston. TV Guide Network ranked it at #2 in a 2010 special listing the \"25 Biggest TV Blunders\". \"Complex\" stated \"It's the Citizen Kane of televised nip-slips—so unexpected, and on such a large stage, that nothing else will ever come close. If Beyoncé were to whip out both breasts and put on a puppet show with them when she performs this year in New Orleans, it would rate as just the second most shocking Super Boob display. Janet's strangely ornamented right nipple is a living legend, and so is Justin Timberlake's terrified reaction.\" Music channel Fuse listed it as the most controversial Super Bowl halftime show, saying the \"revealing performance remains (and will forever remain) the craziest thing to ever happen at a halftime show. Almost immediately after the incident, the FCC received a flood of complaints from parents who just wanted their children to enjoy a nice, wholesome three hours of grown men inflicting damaging and long-lasting pain on each other for sport. Halftime shows would never be the same.\" Patrick Gipson of \"Bleacher Report\" ranked it as #1 in its list of the most \"Jaw Dropping Moments of the Last Decade\", stating Janet \"changed the landscape of live television forever\". Gipson explained \"It prompted a million mothers to cover their eyes, fathers and sons to jump out of their seats in shock and numerous sanctions by the Federal Communications Commission, including a US$550,000 fine against CBS. Talk about a halftime show that will be hard to top.\" The incident was also declared \"the most memorable Super Bowl halftime show in history\", as well as \"the most controversial\", adding \"you can't talk about this halftime show, or any subsequent halftime show from here to eternity, without mentioning the wardrobe malfunction\".\n",
      "\n",
      "title:Super Bowl XXXVIII halftime show controversy\n",
      "\n",
      "url:https://en.wikipedia.org/wiki?curid=498971\n",
      "\n",
      "\n",
      "item 2\n",
      "text:West Germany (established in May 1949) was not eligible for the 1950 World Cup (the first after the war), and so all preparations were made with a view toward the 1954 matches in Bern, Switzerland. By that time Adidas's football boots were considerably lighter than the ones made before the war, based on English designs. At the World Cup Adi had a secret weapon, which he revealed when West Germany made the finals against the overwhelmingly favored Hungarian team, which was undefeated since May 1950 and had defeated West Germany 8–3 in group play. Despite this defeat, West Germany made the knock-out rounds by twice defeating Turkey handily. The team defeated Yugoslavia and Austria to reach the final (a remarkable achievement), where the hope of many German fans was simply that the team \"avoid another humiliating defeat\" at the hands of the Hungarians. The day of the final began with light rain, which brightened the prospects of the West German team who called it \"\"Fritz Walter-Wetter\"\" because the team's best player excelled in muddy conditions. Dassler informed Herberger before the match of his latest innovation—\"screw in studs.\" Unlike the traditional boot which had fixed leather spike studs, Dassler's shoe allowed spikes of various lengths to be affixed depending on the state of the pitch. As the playing field at Wankdorf Stadium drastically deteriorated, Herberger famously announced, \"Adi, screw them on.\" The longer spikes improved the footing of West German players compared to the Hungarians whose mud-caked boots were also much heavier. The West Germans staged a come from behind upset, winning 3-2, in what became known as the \"Miracle in Bern.\" Herberger publicly praised Dassler as a key contributor to the win, and Adidas's fame rose both in West Germany, where the win was considered a key post-war event in restoring German self-esteem and abroad, where in the first televised World Cup final viewers were introduced to \"the ultimate breakthrough.\"\n",
      "\n",
      "title:Adolf Dassler\n",
      "\n",
      "url:https://en.wikipedia.org/wiki?curid=2373164\n",
      "\n",
      "\n"
     ]
    }
   ],
   "source": [
    "print_result(keyword_search_results)"
   ]
  },
  {
   "cell_type": "code",
   "execution_count": 17,
   "id": "2350fa0e-f896-42af-bcb1-a7577f9c9be1",
   "metadata": {
    "height": 80
   },
   "outputs": [
    {
     "name": "stdout",
     "output_type": "stream",
     "text": [
      "item 0\n",
      "text:When a term begins as pejorative and eventually is adopted in a non-pejorative sense, this is called \"melioration\" or \"amelioration\". One example is the shift in meaning of the word \"nice\" from meaning a person was foolish to meaning that a person is pleasant. When performed deliberately, it is described as reclamation or reappropriation. An example of a word that has been reclaimed by portions of the community that it targets is \"queer\", which began being re-appropriated as a positive descriptor in the early 1990s by activist groups. However, due to its history and – in some regions – continued use as a pejorative, there remain LGBT individuals who are uncomfortable with having this term applied to them.\n",
      "\n",
      "title:Pejorative\n",
      "\n",
      "url:https://en.wikipedia.org/wiki?curid=23658801\n",
      "\n",
      "\n",
      "item 1\n",
      "text:Prior to the 1922 independence of the Irish Free State, the law in Ireland was that of the United Kingdom of Great Britain and Ireland (see the UK history section). Anal sex was illegal under the Offences against the Person Act 1861, while the Criminal Law Amendment Act 1885 criminalised \"Defilement of girl between thirteen and sixteen years of age\", with more severe penalties for \"Defilement of girl under thirteen years of age\". The 1930 Carrigan Report into child sex abuse and underage prostitution recommended raising the age of consent to 18 years. The Criminal Law Amendment Act 1935 raised the age to 17, with more severe penalties under age 15, and disallowed a defence of mistake. The law on child sex abuse, including the age of consent, was the subject of a 1989 consultation paper and 1990 report by the Law Reform Commission (LRC). The Criminal Law (Sexual Offences) Act 1993 decriminalised male homosexual acts and created offences of \"Buggery of persons under 17 years of age\" and \"Gross indecency with males under 17 years of age\". In 2006, the 1935 law was struck out when the Supreme Court found that its prohibition of the mistake defence violated a defendant's Constitutional rights. The Criminal Law (Sexual Offences) Act 2006, quickly passed within the scope of the Supreme Court's judgment, replaced the 1935 and 1993 offences with the current ones. The exemption for girls under 17 was recommended by the LRC and the Director of Public Prosecutions who felt \"it would be wrong to stigmatise mothers and pregnant girls of 15 or 16 years of age as if they were either the victims of violent rape or they had committed a crime\". While this was controversial, the Minister pointed out that the previous law had not criminalised any sex act by a girl under 17. The 2006 report of the Oireachtas Joint Committee on Child Protection recommended changing the age of consent to 16, and 18 with a person in authority. It advised that close-in-age cases should remain criminalised, but with more lenient guidelines for sentencing. It also recommended wider publicity of the age limits. Most of the changes were implemented in 2017, although the age of consent remained 17.\n",
      "\n",
      "title:Ages of consent in Europe\n",
      "\n",
      "url:https://en.wikipedia.org/wiki?curid=5071174\n",
      "\n",
      "\n",
      "item 2\n",
      "text:The population of Japan peaked at 128,083,960 in 2008. It had decreased by 2,373,960 by December 2020. In 2011, the economy of China became the world's second largest. Japan's economy descended to third largest by nominal GDP. Despite Japan's economic difficulties, this period also saw Japanese popular culture, including video games, anime, and manga, expanding worldwide, especially among young people. In March 2011, the Tokyo Skytree became the tallest tower in the world at , displacing the Canton Tower. It is the second tallest structure in the world after the Burj Khalifa ().\n",
      "\n",
      "title:History of Japan\n",
      "\n",
      "url:https://en.wikipedia.org/wiki?curid=25890428\n",
      "\n",
      "\n"
     ]
    }
   ],
   "source": [
    "query = \"Who is the tallest person in history?\"\n",
    "keyword_search_results = keyword_search(query, results_lang='en')\n",
    "print_result(keyword_search_results)"
   ]
  },
  {
   "cell_type": "code",
   "execution_count": null,
   "id": "99269036-ec4e-4852-85fc-19593df6e638",
   "metadata": {
    "height": 29
   },
   "outputs": [],
   "source": [
    "# More importsnce for keywords is seen, independant of their semantic meaning"
   ]
  },
  {
   "cell_type": "code",
   "execution_count": null,
   "id": "64bb115e-bfe4-4d0c-99a6-a8ef980365f7",
   "metadata": {
    "height": 29
   },
   "outputs": [],
   "source": []
  }
 ],
 "metadata": {
  "kernelspec": {
   "display_name": "Python 3 (ipykernel)",
   "language": "python",
   "name": "python3"
  },
  "language_info": {
   "codemirror_mode": {
    "name": "ipython",
    "version": 3
   },
   "file_extension": ".py",
   "mimetype": "text/x-python",
   "name": "python",
   "nbconvert_exporter": "python",
   "pygments_lexer": "ipython3",
   "version": "3.9.19"
  }
 },
 "nbformat": 4,
 "nbformat_minor": 5
}
